{
 "cells": [
  {
   "cell_type": "code",
   "execution_count": 3,
   "id": "51364816",
   "metadata": {},
   "outputs": [
    {
     "name": "stdout",
     "output_type": "stream",
     "text": [
      "몇 리터 사용? : 30\n",
      "A회사:3000원, B회사:4500원\n"
     ]
    }
   ],
   "source": [
    "def waterPay(c):\n",
    "    a = c*100\n",
    "    if c<=50:\n",
    "        b = c*150\n",
    "    else:\n",
    "        b = 50*150 + (c-50)*75\n",
    "    return print(f'A회사:{a}원, B회사:{b}원' )\n",
    "\n",
    "\n",
    "c = int(input('몇 리터 사용? : '))\n",
    "\n",
    "waterPay(c)\n"
   ]
  },
  {
   "cell_type": "code",
   "execution_count": 6,
   "id": "2b247c9f",
   "metadata": {},
   "outputs": [
    {
     "name": "stdout",
     "output_type": "stream",
     "text": [
      "a부터 b까지 정수의 합을 구합니다.\n",
      "정수 a를 입력하세요.: 8\n",
      "정수 b를 입력하세요.: 3\n",
      "3부터 8까지 정수의 합은 33입니다.\n"
     ]
    }
   ],
   "source": [
    "print('a부터 b까지 정수의 합을 구합니다.')\n",
    "a = int(input('정수 a를 입력하세요.: '))\n",
    "b = int(input('정수 b를 입력하세요.: '))\n",
    "if a > b:\n",
    "    a, b = b, a\n",
    "sum = 0\n",
    "for i in range(a, b+1):\n",
    "    sum += i\n",
    "print(f'{a}부터 {b}까지 정수의 합은 {sum}입니다.')"
   ]
  },
  {
   "cell_type": "code",
   "execution_count": 7,
   "id": "add18cba",
   "metadata": {},
   "outputs": [
    {
     "name": "stdout",
     "output_type": "stream",
     "text": [
      "a부터 b까지 정수의 합을 구합니다.\n",
      "정수 a를 입력하세요.: 1\n",
      "정수 b를 입력하세요.: 3\n",
      "1 + 2 + 3 = 6\n"
     ]
    }
   ],
   "source": [
    "print('a부터 b까지 정수의 합을 구합니다.')\n",
    "a = int(input('정수 a를 입력하세요.: '))\n",
    "b = int(input('정수 b를 입력하세요.: '))\n",
    "if a > b:\n",
    "    a, b = b, a\n",
    "sum = 0\n",
    "for i in range(a, b+1):\n",
    "    if i < b:\n",
    "        print(f'{i} + ', end='')\n",
    "    else:\n",
    "        print(f'{i} = ', end='')\n",
    "    sum +=i\n",
    "print(sum)"
   ]
  },
  {
   "cell_type": "code",
   "execution_count": 14,
   "id": "952341bb",
   "metadata": {},
   "outputs": [
    {
     "name": "stdout",
     "output_type": "stream",
     "text": [
      "a부터 b까지 정수의 합을 구합니다.\n",
      "정수 a를 입력하세요.: 1\n",
      "정수 b를 입력하세요.: 3\n",
      "1 + 2 + 3 = 6\n"
     ]
    }
   ],
   "source": [
    "print('a부터 b까지 정수의 합을 구합니다.')\n",
    "a = int(input('정수 a를 입력하세요.: '))\n",
    "b = int(input('정수 b를 입력하세요.: '))\n",
    "if a > b:\n",
    "    a, b = b, a\n",
    "sum = 0\n",
    "for i in range(a, b+1):\n",
    "    if i < b:\n",
    "        print(f'{i} + ', end='')\n",
    "    sum +=i\n",
    "print(f'{b} = ', end='')\n",
    "    \n",
    "print(sum)"
   ]
  },
  {
   "cell_type": "code",
   "execution_count": 19,
   "id": "042d17b3",
   "metadata": {},
   "outputs": [
    {
     "name": "stdout",
     "output_type": "stream",
     "text": [
      "*를 출력합니다.\n",
      "몇개를 출력할까요?: 10\n",
      "몇 개마다 줄바꿈할까요?: 5\n",
      "*****\n",
      "*****\n"
     ]
    }
   ],
   "source": [
    "print('*를 출력합니다.')\n",
    "n = int(input('몇개를 출력할까요?: '))\n",
    "w = int(input('몇 개마다 줄바꿈할까요?: '))\n",
    "for i in range(n):\n",
    "    print('*', end='')\n",
    "    if i % w == w-1: #핵심\n",
    "        print()\n",
    "if n%w:\n",
    "    print()"
   ]
  },
  {
   "cell_type": "code",
   "execution_count": 21,
   "id": "ab8698ba",
   "metadata": {},
   "outputs": [
    {
     "name": "stdout",
     "output_type": "stream",
     "text": [
      "*를 출력합니다.\n",
      "몇개를 출력할까요?: 12\n",
      "몇 개마다 줄바꿈할까요?: 5\n",
      "*****\n",
      "*****\n",
      "**\n"
     ]
    }
   ],
   "source": [
    "print('*를 출력합니다.')\n",
    "n = int(input('몇개를 출력할까요?: '))\n",
    "w = int(input('몇 개마다 줄바꿈할까요?: '))\n",
    "for _ in range(n // w): # n//w번 반복\n",
    "    print('*' * w) # *를 w번 출력\n",
    "rest = n % w\n",
    "if rest: # rest 값이 있으면\n",
    "    print('*' * rest) # rest 값만큼 * 반복 출력"
   ]
  },
  {
   "cell_type": "code",
   "execution_count": 35,
   "id": "9e84d8d6",
   "metadata": {},
   "outputs": [
    {
     "name": "stdout",
     "output_type": "stream",
     "text": [
      "직사각형의 넓이를 입력하세요.: 32\n",
      "1 x 32\n",
      "2 x 16\n",
      "4 x 8\n",
      "8 x 4\n",
      "16 x 2\n",
      "32 x 1\n"
     ]
    }
   ],
   "source": [
    "area = int(input('직사각형의 넓이를 입력하세요.: '))\n",
    "for i in range(1, area + 1):\n",
    "    #if i * i > area: break\n",
    "    if area % i: continue\n",
    "    print(f'{i} x {area // i}')"
   ]
  },
  {
   "cell_type": "code",
   "execution_count": 42,
   "id": "43590f2c",
   "metadata": {
    "scrolled": false
   },
   "outputs": [
    {
     "name": "stdout",
     "output_type": "stream",
     "text": [
      "  1  2  3  4  5  6  7  8  9\n",
      "  2  4  6  8 10 12 14 16 18\n",
      "  3  6  9 12 15 18 21 24 27\n",
      "  4  8 12 16 20 24 28 32 36\n",
      "  5 10 15 20 25 30 35 40 45\n",
      "  6 12 18 24 30 36 42 48 54\n",
      "  7 14 21 28 35 42 49 56 63\n",
      "  8 16 24 32 40 48 56 64 72\n",
      "  9 18 27 36 45 54 63 72 81\n"
     ]
    }
   ],
   "source": [
    "for i in range(1, 10): #행 반복\n",
    "    for j in range(1, 10): # 열 반복\n",
    "        print(f'{i * j:3}', end='') # i*j값을 3자리로 출력\n",
    "    print()"
   ]
  },
  {
   "cell_type": "code",
   "execution_count": 49,
   "id": "5ff891e2",
   "metadata": {},
   "outputs": [
    {
     "name": "stdout",
     "output_type": "stream",
     "text": [
      "사용량?: 250\n",
      "요금 : 33717원\n"
     ]
    }
   ],
   "source": [
    "def electricPay(u):\n",
    "        if u > 200:\n",
    "            c = int(1600 + 100*60.7 + 100*125.9 + (u-200)*187.9)\n",
    "            return c\n",
    "        elif u >= 100:\n",
    "            b = int(910 + 100*60.7 + (u-100)*125.9)\n",
    "            return b\n",
    "        else :\n",
    "            a = int(410+u*60.7)\n",
    "            return a\n",
    "\n",
    "u = int(input('사용량?: '))\n",
    "fe = electricPay(u)\n",
    "ff = int(fe*1.1+fe*0.037)\n",
    "print(f'요금 : {ff}원')\n"
   ]
  },
  {
   "cell_type": "code",
   "execution_count": 51,
   "id": "57330c29",
   "metadata": {},
   "outputs": [
    {
     "name": "stdout",
     "output_type": "stream",
     "text": [
      "사용량?: 250\n",
      "요금 : 33717원\n"
     ]
    }
   ],
   "source": [
    "def electricPay(u):\n",
    "        if u > 200:\n",
    "            p = int(1600 + 100*60.7 + 100*125.9 + (u-200)*187.9)\n",
    "           \n",
    "        elif u >= 100:\n",
    "            p = int(910 + 100*60.7 + (u-100)*125.9)\n",
    "            \n",
    "        else :\n",
    "            p = int(410+u*60.7)\n",
    "        ps = int(p*1.1+p*0.037)\n",
    "        return ps\n",
    "\n",
    "u = int(input('사용량?: '))\n",
    "\n",
    "print(f'요금 : {electricPay(u)}원')"
   ]
  },
  {
   "cell_type": "code",
   "execution_count": 67,
   "id": "36d8e317",
   "metadata": {},
   "outputs": [
    {
     "name": "stdout",
     "output_type": "stream",
     "text": [
      "반복?:9\n",
      "+-+-+-+-+"
     ]
    }
   ],
   "source": [
    "a = int(input('반복?:'))\n",
    "\n",
    "for i in range(a):\n",
    "    if i%2 ==0 :\n",
    "        print('+',end='')\n",
    "    else :\n",
    "        print('-',end='')"
   ]
  },
  {
   "cell_type": "code",
   "execution_count": 65,
   "id": "68bc693e",
   "metadata": {},
   "outputs": [
    {
     "name": "stdout",
     "output_type": "stream",
     "text": [
      "1 2 3 4 5 6 7 9 10 11 12 "
     ]
    }
   ],
   "source": [
    "for i in range(1,13):\n",
    "    if i == 8 : continue\n",
    "    print(i,end=' ')"
   ]
  },
  {
   "cell_type": "code",
   "execution_count": 82,
   "id": "cb6751c4",
   "metadata": {},
   "outputs": [
    {
     "name": "stdout",
     "output_type": "stream",
     "text": [
      "정수?:7\n",
      "결과없음\n"
     ]
    }
   ],
   "source": [
    "a = int(input('정수?:'))\n",
    "f = 0\n",
    "for i in range(1,a+1):\n",
    "    for j in range(2,6):\n",
    "        if i**j == a :\n",
    "            print(f'{i},{j}')\n",
    "            f = 1\n",
    "if f == 0:\n",
    "    print('결과없음')"
   ]
  },
  {
   "cell_type": "code",
   "execution_count": 99,
   "id": "b1fbbfb7",
   "metadata": {},
   "outputs": [
    {
     "name": "stdout",
     "output_type": "stream",
     "text": [
      "정수1?: 36\n",
      "정수2?: 26\n",
      "최대공약수 : 2\n"
     ]
    }
   ],
   "source": [
    "def gcd(a,b) :\n",
    "    if a < b :\n",
    "        a,b = b,a\n",
    "    while b != 0 :\n",
    "        n = a%b\n",
    "        a = b\n",
    "        b = n\n",
    "    return a\n",
    "    \n",
    "a = int(input('정수1?: '))\n",
    "b = int(input('정수2?: '))\n",
    "\n",
    "answer = gcd(a,b)\n",
    "\n",
    "print(f'최대공약수 : {answer}')  \n"
   ]
  },
  {
   "cell_type": "code",
   "execution_count": 98,
   "id": "b0e0d00f",
   "metadata": {},
   "outputs": [
    {
     "name": "stdout",
     "output_type": "stream",
     "text": [
      "정수1?: 26\n",
      "정수2?: 36\n",
      "최소공배수 : 468\n"
     ]
    }
   ],
   "source": [
    "def gcd(a,b) :\n",
    "    if a < b :\n",
    "        a,b = b,a\n",
    "    while b != 0 :\n",
    "        n = a%b\n",
    "        a = b\n",
    "        b = n\n",
    "    return a\n",
    "\n",
    "def lcm(a,b):\n",
    "    return int(a*b/gcd(a,b))\n",
    "    \n",
    "a = int(input('정수1?: '))\n",
    "b = int(input('정수2?: '))\n",
    "\n",
    "answer = lcm(a,b)\n",
    "\n",
    "print(f'최소공배수 : {answer}')"
   ]
  },
  {
   "cell_type": "code",
   "execution_count": 134,
   "id": "21ee1634",
   "metadata": {},
   "outputs": [
    {
     "name": "stdout",
     "output_type": "stream",
     "text": [
      "정수 입력71\n",
      "12\n"
     ]
    }
   ],
   "source": [
    "#추가실습 Q2\n",
    "\n",
    "N = int(input('정수 입력'))\n",
    "n1 = N\n",
    "count = 0\n",
    "while True :\n",
    "    a = int(n1/10)\n",
    "    b = int(n1%10)\n",
    "    c = a+b\n",
    "    d = b*10 + c%10\n",
    "    n1 = d\n",
    "    count= count +1\n",
    "    if n1 == N : break    \n",
    "\n",
    "print(count)"
   ]
  },
  {
   "cell_type": "code",
   "execution_count": 145,
   "id": "536e2d6c",
   "metadata": {},
   "outputs": [
    {
     "name": "stdout",
     "output_type": "stream",
     "text": [
      "정수1: 24\n",
      "정수2: 27\n",
      "52\n"
     ]
    }
   ],
   "source": [
    "# 추가실습 Q3\n",
    "\n",
    "def solution(left, right):\n",
    "    answer = 0    \n",
    "    for i in range(left, right+1):\n",
    "        count = 0\n",
    "        for j in range(1,i+1):\n",
    "            if i%j == 0 :\n",
    "                count = count +1\n",
    "        if count%2 ==0 :\n",
    "            answer = answer+ i\n",
    "        else :\n",
    "            answer = answer- i    \n",
    "    return answer\n",
    "\n",
    "left = int(input('정수1: '))\n",
    "right = int(input('정수2: '))\n",
    "c = solution(left, right)\n",
    "print(c)"
   ]
  },
  {
   "cell_type": "code",
   "execution_count": 166,
   "id": "56d5c3a2",
   "metadata": {},
   "outputs": [
    {
     "name": "stdout",
     "output_type": "stream",
     "text": [
      "숫자로 이루어진 문자열을 입력하세요. 02984\n",
      "576\n"
     ]
    }
   ],
   "source": [
    "#Q4\n",
    "\n",
    "data = input('숫자로 이루어진 문자열을 입력하세요. ')\n",
    "\n",
    "result = int(data[0])\n",
    "\n",
    "\n",
    "for i in range(1,len(data)) :\n",
    "    if result == 0 :\n",
    "        result = result + int(data[i])\n",
    "        continue\n",
    "    if int(data[i]) == 0 : continue\n",
    "    result = result*int(data[i])\n",
    "\n",
    "print(result)"
   ]
  },
  {
   "cell_type": "code",
   "execution_count": 161,
   "id": "528b5ecf",
   "metadata": {},
   "outputs": [
    {
     "name": "stdout",
     "output_type": "stream",
     "text": [
      "숫자로 이루어진 문자열을 입력하세요. 안녕\n",
      "3\n",
      "3\n"
     ]
    }
   ],
   "source": []
  }
 ],
 "metadata": {
  "kernelspec": {
   "display_name": "Python 3",
   "language": "python",
   "name": "python3"
  },
  "language_info": {
   "codemirror_mode": {
    "name": "ipython",
    "version": 3
   },
   "file_extension": ".py",
   "mimetype": "text/x-python",
   "name": "python",
   "nbconvert_exporter": "python",
   "pygments_lexer": "ipython3",
   "version": "3.8.8"
  }
 },
 "nbformat": 4,
 "nbformat_minor": 5
}
